{
 "cells": [
  {
   "cell_type": "markdown",
   "metadata": {},
   "source": [
    "## Computer Vision 2024-25 (P. Zanuttigh, F. Barbato, F. Lincetto, M. Caligiuri)\n",
    "## Solution for the intro LAB"
   ]
  },
  {
   "cell_type": "code",
   "execution_count": null,
   "metadata": {},
   "outputs": [],
   "source": [
    "import numpy as np\n",
    "import cv2 as cv"
   ]
  },
  {
   "cell_type": "code",
   "execution_count": null,
   "metadata": {},
   "outputs": [],
   "source": [
    "# Load image and show it\n",
    "image = cv.imread('./data/unipd.jpg')\n",
    "cv.imshow(\"Image\", image)\n",
    "cv.waitKey(0)\n",
    "cv.destroyAllWindows()"
   ]
  },
  {
   "cell_type": "code",
   "execution_count": null,
   "metadata": {},
   "outputs": [],
   "source": [
    "# Define function to execute on mouse click\n",
    "def onClick_RGB(event, x, y, flag, image):\n",
    "    \n",
    "    neighborhood = 9\n",
    "    red_threshold = 35\n",
    "    green_threshold = 35\n",
    "    blue_threshold = 35\n",
    "    new_color = np.array([37, 201, 92])\n",
    "    \n",
    "    if event == cv.EVENT_LBUTTONDOWN:\n",
    "        \n",
    "        image_out = np.copy(image)\n",
    "        height, width, _ = image.shape\n",
    "\n",
    "        if (x+neighborhood > width or y+neighborhood > height) or (x-neighborhood < 0 or y-neighborhood < 0):\n",
    "            print(\"Out of boundaries!\")\n",
    "            return\n",
    "\n",
    "        patch = image[y-neighborhood : y+neighborhood, x-neighborhood : x+neighborhood]\n",
    "        mean = np.mean(patch, axis=(0,1))\n",
    "        print(\"Mean of the neighbors: \", mean)\n",
    "        \n",
    "        mask_blue = np.abs(image_out[..., 0] - mean[0]) < blue_threshold\n",
    "        mask_green = np.abs(image_out[..., 1] - mean[1]) < green_threshold\n",
    "        mask_red = np.abs(image_out[..., 2] - mean[2]) < red_threshold\n",
    "        mask = mask_blue * mask_green * mask_red\n",
    "        image_out[mask, :] = new_color\n",
    "        \n",
    "        cv.imshow(\"Output image\", image_out)\n",
    "        \n"
   ]
  },
  {
   "cell_type": "code",
   "execution_count": null,
   "metadata": {},
   "outputs": [],
   "source": [
    "# Define function to execute on mouse click\n",
    "def onClick_LAB(event, x, y, flag, image):\n",
    "    \n",
    "    neighborhood = 9\n",
    "    a_threshold = 25\n",
    "    b_threshold = 25\n",
    "    new_color = np.array([42, 42])\n",
    "    \n",
    "    if event == cv.EVENT_LBUTTONDOWN:\n",
    "        \n",
    "        image_out = cv.cvtColor(image, cv.COLOR_BGR2LAB)\n",
    "        height, width, _ = image.shape\n",
    "\n",
    "        if (x+neighborhood > width or y+neighborhood > height) or (x-neighborhood < 0 or y-neighborhood < 0):\n",
    "            print(\"Out of boundaries!\")\n",
    "            return\n",
    "\n",
    "        patch = image_out[y-neighborhood : y+neighborhood, x-neighborhood : x+neighborhood, 1:]\n",
    "        mean = np.mean(patch, axis=(0,1))\n",
    "        print(\"Mean of the neighbors: \", mean)\n",
    "        \n",
    "        mask_a = np.abs(image_out[..., 1] - mean[0]) < a_threshold\n",
    "        mask_b = np.abs(image_out[..., 2] - mean[1]) < b_threshold\n",
    "        mask = mask_a * mask_b\n",
    "        image_out[mask, 1:] = new_color\n",
    "        \n",
    "        image_out = cv.cvtColor(image_out, cv.COLOR_LAB2BGR)\n",
    "        \n",
    "        cv.imshow(\"Output image\", image_out)\n",
    "        \n"
   ]
  },
  {
   "cell_type": "code",
   "execution_count": null,
   "metadata": {},
   "outputs": [],
   "source": [
    "# RGB version\n",
    "# Set mouse callback\n",
    "cv.namedWindow(\"Image\")\n",
    "cv.setMouseCallback(\"Image\", onClick_RGB, image)\n",
    "cv.imshow(\"Image\", image)\n",
    "cv.waitKey(0)\n",
    "cv.destroyAllWindows()"
   ]
  },
  {
   "cell_type": "code",
   "execution_count": null,
   "metadata": {},
   "outputs": [],
   "source": [
    "# LAB version\n",
    "# Set mouse callback\n",
    "cv.namedWindow(\"Image\")\n",
    "cv.setMouseCallback(\"Image\", onClick_LAB, image)\n",
    "cv.imshow(\"Image\", image)\n",
    "cv.waitKey(0)\n",
    "cv.destroyAllWindows()"
   ]
  },
  {
   "cell_type": "code",
   "execution_count": null,
   "metadata": {},
   "outputs": [],
   "source": []
  },
  {
   "cell_type": "code",
   "execution_count": null,
   "metadata": {},
   "outputs": [],
   "source": []
  },
  {
   "cell_type": "code",
   "execution_count": null,
   "metadata": {},
   "outputs": [],
   "source": []
  }
 ],
 "metadata": {
  "kernelspec": {
   "display_name": "Python 3 (ipykernel)",
   "language": "python",
   "name": "python3"
  },
  "language_info": {
   "codemirror_mode": {
    "name": "ipython",
    "version": 3
   },
   "file_extension": ".py",
   "mimetype": "text/x-python",
   "name": "python",
   "nbconvert_exporter": "python",
   "pygments_lexer": "ipython3",
   "version": "3.12.7"
  }
 },
 "nbformat": 4,
 "nbformat_minor": 4
}
