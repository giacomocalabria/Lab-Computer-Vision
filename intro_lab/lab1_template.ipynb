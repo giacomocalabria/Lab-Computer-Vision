{
 "cells": [
  {
   "cell_type": "markdown",
   "metadata": {},
   "source": [
    "# Lab 1 - Swap the Color !\n",
    "In this lab you will need to swap the colors of some image regions (see the slides for details of the the assignment). \n",
    "\n",
    "More in detail, given an image, you are asked to segment an area by clicking on it once. The goal is to re-color all the areas in the image that have a color similar to the pointed out one. You can explore different color spaces to tackle the color change task.\n",
    "\n",
    "Try different approaches and try to get why they allow to achieve good results or not.\n",
    "\n",
    "Here an empty notebook to start is provided!"
   ]
  },
  {
   "cell_type": "code",
   "execution_count": 2,
   "metadata": {},
   "outputs": [],
   "source": [
    "# Import the packages you need\n",
    "import numpy as np\n",
    "import cv2 as cv"
   ]
  },
  {
   "cell_type": "code",
   "execution_count": 5,
   "metadata": {},
   "outputs": [],
   "source": [
    "mean = lambda image,x,y : np.mean(image[y-4:y+5, x-4:x+5], axis=(0, 1))\n",
    "\n",
    "ColorToApply = (37,201,92)\n",
    "\n",
    "def change_color(image, mean_color, ColorToApply):\n",
    "    for i in range(image.shape[0]):\n",
    "        for j in range(image.shape[1]):\n",
    "            if np.linalg.norm(mean_color - image[i, j]) < 50:\n",
    "                image[i, j] = ColorToApply\n",
    "\n",
    "# Define function to get the position of the mouse click\n",
    "def get_position(event, x, y, flags, param):\n",
    "    if event == cv.EVENT_LBUTTONDOWN:\n",
    "        print('Position:', x, y)\n",
    "        print('Color:', image[y, x])\n",
    "        mean_color = mean(image, x, y)\n",
    "        print('Mean:', mean_color)\n",
    "        change_color(image, mean_color, ColorToApply)\n",
    "        cv.imshow('Roma', image)"
   ]
  },
  {
   "cell_type": "code",
   "execution_count": 6,
   "metadata": {},
   "outputs": [
    {
     "name": "stdout",
     "output_type": "stream",
     "text": [
      "(780, 1387, 3)\n",
      "Position: 799 79\n",
      "Color: [0 3 1]\n",
      "Mean: [0.4691358  3.44444444 1.38271605]\n",
      "Position: 951 633\n",
      "Color: [67 97 38]\n",
      "Mean: [61.55555556 90.08641975 37.04938272]\n"
     ]
    }
   ],
   "source": [
    "# Load one image and show it\n",
    "image = cv.imread('data/robocup.jpg')\n",
    "print(image.shape)\n",
    "cv.namedWindow('Roma', cv.WINDOW_AUTOSIZE)\n",
    "\n",
    "# Convert image to CIE Lab color space\n",
    "#image = cv.cvtColor(image, cv.COLOR_BGR2Lab)\n",
    "        \n",
    "# Define function to execute on mouse click\n",
    "cv.setMouseCallback('Roma', get_position)\n",
    "\n",
    "cv.imshow('Roma', image)\n",
    "key = cv.waitKey(0)\n",
    "cv.destroyAllWindows()"
   ]
  }
 ],
 "metadata": {
  "kernelspec": {
   "display_name": "Python 3",
   "language": "python",
   "name": "python3"
  },
  "language_info": {
   "codemirror_mode": {
    "name": "ipython",
    "version": 3
   },
   "file_extension": ".py",
   "mimetype": "text/x-python",
   "name": "python",
   "nbconvert_exporter": "python",
   "pygments_lexer": "ipython3",
   "version": "3.12.7"
  }
 },
 "nbformat": 4,
 "nbformat_minor": 4
}
