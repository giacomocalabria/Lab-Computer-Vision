{
 "cells": [
  {
   "cell_type": "markdown",
   "metadata": {
    "id": "82sFYKIXbfOV"
   },
   "source": [
    "# Python Basic Tutorial\n",
    "Revised by Federico Lincetto and Francesco Barbato"
   ]
  },
  {
   "cell_type": "markdown",
   "metadata": {
    "id": "lbEsHkGYCbW4"
   },
   "source": [
    "In this notebook we are going to see some fundamentals of Python and of the related packages (Numpy, Matplotlib, etc.)"
   ]
  },
  {
   "cell_type": "code",
   "execution_count": null,
   "metadata": {
    "id": "Ufn2ZT26CbW9"
   },
   "outputs": [],
   "source": [
    "# a comment starts with an hashtag symbol:\n",
    "print(\"This will be executed\")\n",
    "#print(\"This will not\")"
   ]
  },
  {
   "cell_type": "markdown",
   "metadata": {
    "id": "QQMD2TgMCbXA"
   },
   "source": [
    "# Numbers"
   ]
  },
  {
   "cell_type": "code",
   "execution_count": null,
   "metadata": {
    "id": "B35ShPpCCbXC"
   },
   "outputs": [],
   "source": [
    "x = 1 # notice that we didn't need to declare the type, it was automatically inferred\n",
    "print(x)\n",
    "print(type(x))"
   ]
  },
  {
   "cell_type": "markdown",
   "metadata": {
    "id": "L1dPB71OCbXD"
   },
   "source": [
    "In Python 3 the division always returns a float"
   ]
  },
  {
   "cell_type": "code",
   "execution_count": null,
   "metadata": {
    "id": "RIm14LNfCbXE"
   },
   "outputs": [],
   "source": [
    "x = 3.0\n",
    "y = 2.  # the 0 can be omitted: 2.0 == 2.\n",
    "print(x/y)"
   ]
  },
  {
   "cell_type": "code",
   "execution_count": null,
   "metadata": {
    "id": "lRiWHqivCbXF"
   },
   "outputs": [],
   "source": [
    "x = 4 # int\n",
    "y = 2 # int\n",
    "z = x/y\n",
    "print('value of x:', x, 'type of x:', type(x))\n",
    "print('value of z:', z, 'type of z:', type(z))"
   ]
  },
  {
   "cell_type": "markdown",
   "metadata": {
    "id": "SWtHUidoCbXG"
   },
   "source": [
    "The \" // \" command performs integer division <br>\n",
    "Recall that the division behaves differently in Python 2 and Python 3"
   ]
  },
  {
   "cell_type": "code",
   "execution_count": null,
   "metadata": {
    "id": "dw8Wkl8mCbXH"
   },
   "outputs": [],
   "source": [
    "x = 3\n",
    "y = 2\n",
    "z = x // y\n",
    "print('value of z:', z, '  type of z: ', type(z))\n",
    "\n",
    "x = 3.0\n",
    "y = 2.0\n",
    "z = x // y\n",
    "print('value of z:', z, 'type of z:', type(z))"
   ]
  },
  {
   "cell_type": "markdown",
   "metadata": {
    "id": "HtnL2WdLCbXI"
   },
   "source": [
    "# Lists"
   ]
  },
  {
   "cell_type": "markdown",
   "metadata": {
    "id": "AHiZx5SdCbXJ"
   },
   "source": [
    "The list is ordered and elements can be added and removed"
   ]
  },
  {
   "cell_type": "code",
   "execution_count": null,
   "metadata": {
    "id": "6yjAKX1dCbXK"
   },
   "outputs": [],
   "source": [
    "a = [20, 2, -6]\n",
    "print(a)\n",
    "print(a[2])  # notice that indices start from 0 (differently from Matlab)"
   ]
  },
  {
   "cell_type": "code",
   "execution_count": null,
   "metadata": {
    "id": "q-x7qmR2CbXL"
   },
   "outputs": [],
   "source": [
    "b = ['I','will','pass','ML']\n",
    "print(b[1])"
   ]
  },
  {
   "cell_type": "code",
   "execution_count": null,
   "metadata": {
    "id": "g9EMsoSDCbXL"
   },
   "outputs": [],
   "source": [
    "b = []\n",
    "print(b)\n",
    "b = list()\n",
    "print(b)\n",
    "b.append('I')\n",
    "b.append('will')\n",
    "b.append('pass')\n",
    "b.append('ML')\n",
    "print(b)\n",
    "b.remove('ML')\n",
    "print(b)\n",
    "print(type(b))"
   ]
  },
  {
   "cell_type": "markdown",
   "metadata": {
    "id": "8UK0S4ADCbXM"
   },
   "source": [
    "range(start,end) creates a 'generator' producing numbers from (start) to (end-1) <br>\n",
    "we can convert it to a list by writing: list(generator)"
   ]
  },
  {
   "cell_type": "code",
   "execution_count": null,
   "metadata": {
    "id": "Y-w8gzNZCbXM"
   },
   "outputs": [],
   "source": [
    "c = range(1,5) # same as for(int i=1; i<5; i++) in java/c\n",
    "print(c)\n",
    "print(type(c))\n",
    "print(list(c))"
   ]
  },
  {
   "cell_type": "markdown",
   "metadata": {
    "id": "BxnrFMybCbXN"
   },
   "source": [
    "\":\" indexing similar to Matlab (but notice that ending index value is not included and array indexing starts from 0)"
   ]
  },
  {
   "cell_type": "code",
   "execution_count": null,
   "metadata": {
    "id": "Wm2sn9KWCbXN"
   },
   "outputs": [],
   "source": [
    "d = [0,1,2,3,4,5,6,7,8,9]\n",
    "print('d =', d)\n",
    "print('d[0:10] =', d[0:10])\n",
    "print('d[:] =', d[:])\n",
    "print('d[1:10] =', d[1:10])\n",
    "print('d[0:9] =', d[0:9], ' <- last element is (end-1) !')\n",
    "print('d[3:] =', d[3:])\n",
    "print('d[:7] =', d[:7])\n",
    "print('d[:-2] =', d[:-2])  # shorthand for d[:len(d)-2]\n",
    "print('d[2] =', d[2])      # notice that this is a number\n",
    "print('d[2:3] =', d[2:3])  # while this is a list of 1 element"
   ]
  },
  {
   "cell_type": "markdown",
   "metadata": {
    "id": "j-zs_FAgCbXO"
   },
   "source": [
    "# If-then-else"
   ]
  },
  {
   "cell_type": "markdown",
   "metadata": {
    "id": "Qk2FnTN5CbXO"
   },
   "source": [
    "If-then-else have a quite standard behavior. Notice how the indentation is used in place of the parenthesis of other programming languages\n"
   ]
  },
  {
   "cell_type": "code",
   "execution_count": null,
   "metadata": {
    "id": "a4ejhPYNCbXO"
   },
   "outputs": [],
   "source": [
    "x = 3\n",
    "if x > 2:\n",
    "    print('x > 2')\n",
    "elif x < 2:\n",
    "    print('x < 2')\n",
    "else:\n",
    "    print('x = 2')\n",
    "print(\"The value of x is: \" + str(x)) # + concatenate strings\n",
    "print(\"The value of x is:\" , x) # print automatically adds a space between elements"
   ]
  },
  {
   "cell_type": "code",
   "execution_count": null,
   "metadata": {
    "id": "1az4sU0fCbXP"
   },
   "outputs": [],
   "source": [
    "c = 'Good Morning !!!'\n",
    "if c != \"hello\":\n",
    "    print(\"value of c: \" + c)\n",
    "else:\n",
    "    print(\"c has value hello\")"
   ]
  },
  {
   "cell_type": "code",
   "execution_count": null,
   "metadata": {
    "id": "UwXCItMHCbXQ"
   },
   "outputs": [],
   "source": [
    "x = 9.9 # try different values here\n",
    "\n",
    "if (x > 0.0) and (x <10.0):\n",
    "    print(\"x is between 0 and 10 (excluded)\")\n",
    "else:\n",
    "    print(\"x <= 0 or x >= 10\")\n",
    "\n",
    "# python supports mathematical notation as well:\n",
    "if 0.0 < x < 10.0:\n",
    "    print(\"x is between 0 and 10 (excluded)\")\n",
    "else:\n",
    "    print(\"x <= 0 or x >= 10\")"
   ]
  },
  {
   "cell_type": "code",
   "execution_count": null,
   "metadata": {
    "id": "OmIAr_UbCbXQ"
   },
   "outputs": [],
   "source": [
    "grade = 27.2\n",
    "course = \"Computer Vision\"\n",
    "if (grade > 26) and (not (course != \"ML\")):\n",
    "    print(\"Everything is good\")\n",
    "else:\n",
    "    print(\"Need to study for ML!!!\")"
   ]
  },
  {
   "cell_type": "markdown",
   "metadata": {
    "id": "tvHhgoGJCbXR"
   },
   "source": [
    "# Iterating over elements"
   ]
  },
  {
   "cell_type": "code",
   "execution_count": null,
   "metadata": {
    "id": "LTxlBOE6CbXR"
   },
   "outputs": [],
   "source": [
    "x = ['I','will','pass','ML'] # lists can contain any object type\n",
    "for elem in x:\n",
    "    print(elem)"
   ]
  },
  {
   "cell_type": "code",
   "execution_count": null,
   "metadata": {
    "id": "njTvqkTyCbXR"
   },
   "outputs": [],
   "source": [
    "x = ['I','will','pass','ML']\n",
    "print('Number of elements: ' , len(x))\n",
    "for i in range(len(x)):\n",
    "    print(x[i])"
   ]
  },
  {
   "cell_type": "markdown",
   "metadata": {
    "id": "h0tqrCivCbXR"
   },
   "source": [
    "# Importing packages"
   ]
  },
  {
   "cell_type": "code",
   "execution_count": null,
   "metadata": {
    "id": "0OMgZlVzCbXS"
   },
   "outputs": [],
   "source": [
    "import numpy as np      # the 'as' keyword is used to assign names to packages\n",
    "from matplotlib import pyplot as plt"
   ]
  },
  {
   "cell_type": "markdown",
   "metadata": {
    "id": "-eoLv6YnCbXS"
   },
   "source": [
    "# Arrays in numpy"
   ]
  },
  {
   "cell_type": "code",
   "execution_count": null,
   "metadata": {
    "id": "MoQk1y8JCbXS"
   },
   "outputs": [],
   "source": [
    "#create vector given values in it\n",
    "a = np.array([1.0, 2.0, 3.0])\n",
    "print('a:')\n",
    "print(a)\n",
    "print('a.shape =', a.shape, end='\\n\\n')\n",
    "\n",
    "#create matrix  given values in it\n",
    "b = np.array([[1, 2, 3], [4, 5, 6]])\n",
    "print('b:')\n",
    "print(b)\n",
    "print('b.shape =', b.shape, end='\\n\\n')\n",
    "\n",
    "#create matrix of 0's of given size\n",
    "c = np.zeros((3,2))\n",
    "print('c:')\n",
    "print(c)\n",
    "print('c.shape', c.shape, end='\\n\\n')\n",
    "\n",
    "#create matrix of size 1x3 (different from array of 3 elements!)\n",
    "c1 = np.zeros((1,3))\n",
    "c1[0,:] = [1, 2, 3]\n",
    "print('c1:')\n",
    "print(c1)\n",
    "print('c1.shape =', c1.shape, ' <- notice the difference with the first example (a) !!', end='\\n\\n')\n",
    "\n",
    "#create matrix of 1's of given size\n",
    "d = np.ones((2,3))\n",
    "print('d:')\n",
    "print(d, end='\\n\\n')\n",
    "\n",
    "#create identity matrix of given size\n",
    "e = np.eye(4)\n",
    "print('e:')\n",
    "print(e, end='\\n\\n')\n",
    "\n",
    "#create random matrix (values in [0,1]) of given size\n",
    "f = np.random.random((2,4))\n",
    "print('f:')\n",
    "print(f, end='\\n\\n')"
   ]
  },
  {
   "cell_type": "markdown",
   "metadata": {
    "id": "EyJVDdKBCbXT"
   },
   "source": [
    "# Array indexing in numpy"
   ]
  },
  {
   "cell_type": "code",
   "execution_count": null,
   "metadata": {
    "id": "6VFAgPHrCbXT"
   },
   "outputs": [],
   "source": [
    "e = np.array([[1,5,7,9],\n",
    "              [2,6,8,10]])\n",
    "print(e[:,:])"
   ]
  },
  {
   "cell_type": "code",
   "execution_count": null,
   "metadata": {
    "id": "DjefVYYwCbXU"
   },
   "outputs": [],
   "source": [
    "print(e[:,0:4])"
   ]
  },
  {
   "cell_type": "code",
   "execution_count": null,
   "metadata": {
    "id": "OH5ynIkPCbXU"
   },
   "outputs": [],
   "source": [
    "print(e[:,1])"
   ]
  },
  {
   "cell_type": "code",
   "execution_count": null,
   "metadata": {
    "id": "Q5F83D1NCbXV"
   },
   "outputs": [],
   "source": [
    "print(e[:,1:3])"
   ]
  },
  {
   "cell_type": "code",
   "execution_count": null,
   "metadata": {
    "id": "ymiif32zCbXV"
   },
   "outputs": [],
   "source": [
    "print(e[:,1:1])"
   ]
  },
  {
   "cell_type": "code",
   "execution_count": null,
   "metadata": {
    "id": "wsXjxZwNCbXV"
   },
   "outputs": [],
   "source": [
    "print(e[:,1:-1])"
   ]
  },
  {
   "cell_type": "code",
   "execution_count": null,
   "metadata": {
    "id": "qtqJgB3wCbXW"
   },
   "outputs": [],
   "source": [
    "print(e[0,1:])"
   ]
  },
  {
   "cell_type": "code",
   "execution_count": null,
   "metadata": {
    "id": "g9oq-AMcCbXW"
   },
   "outputs": [],
   "source": [
    "print(e[0,0:3])"
   ]
  },
  {
   "cell_type": "code",
   "execution_count": null,
   "metadata": {
    "id": "kayuGRXhCbXW"
   },
   "outputs": [],
   "source": [
    "# indexes also support inversion\n",
    "print(e[:,::-1]) # invert all rows\n",
    "print(e[::-1,:]) # invert all columns"
   ]
  },
  {
   "cell_type": "markdown",
   "metadata": {
    "id": "uTs8kmwmCbXW"
   },
   "source": [
    "# Reading from CSV file [1/2]"
   ]
  },
  {
   "cell_type": "code",
   "execution_count": null,
   "metadata": {
    "id": "Gg4gBwciCbXW"
   },
   "outputs": [],
   "source": [
    "file_name = \"data/marks.csv\"\n",
    "infile = open(file_name,'r')\n",
    "line_c = 0\n",
    "for line in infile:\n",
    "    if line_c <=4:  # read only the first 4 lines\n",
    "        line = line.strip() #strip removes whitespaces and newlines characters\n",
    "        print(\"Line:\\n\"+line) # newline removed ^\n",
    "        v = line.split(',') # split breaks up the string in chunks delimited by the argument\n",
    "        print(\"List: \"+str(v))\n",
    "        print(\"Elements in list:\")\n",
    "        for i in range(len(v)):\n",
    "            print(v[i].strip(), end=' ') #strip removes whitespaces\n",
    "        print('\\n')\n",
    "    line_c += 1\n",
    "infile.close()  # remember to close the file when not used anymore"
   ]
  },
  {
   "cell_type": "markdown",
   "metadata": {
    "id": "CgDJlRB-CbXX"
   },
   "source": [
    "### Automatic file.close() – 'with' environment"
   ]
  },
  {
   "cell_type": "markdown",
   "metadata": {
    "id": "_YJ8YoGACbXX"
   },
   "source": [
    "Sometimes one does not need the complexity allowed by f = open(filename) ... f.close().\\\n",
    "In those cases we can use the **with** environment."
   ]
  },
  {
   "cell_type": "code",
   "execution_count": null,
   "metadata": {
    "id": "4f8DKp_fCbXX"
   },
   "outputs": [],
   "source": [
    "file_name = \"data/marks.csv\"\n",
    "line_c = 0\n",
    "with open(file_name,'r') as infile:  # infile = open(file_name,'r')\n",
    "    for line in infile:\n",
    "        if line_c <=4:  # read only the first 4 lines\n",
    "            line = line.strip() #strip removes whitespaces and newlines characters\n",
    "            print(\"Line:\\n\"+line) # newline removed ^\n",
    "            v = line.split(',') # split breaks up the string in chunks delimited by the argument\n",
    "            print(\"List: \"+str(v))\n",
    "            print(\"Elements in list:\")\n",
    "            for i in range(len(v)):\n",
    "                print(v[i].strip(), end=' ') #strip removes whitespaces\n",
    "            print('\\n')\n",
    "        line_c += 1\n",
    "# infile.close() executed automatically when we exit the indented block"
   ]
  },
  {
   "cell_type": "markdown",
   "metadata": {
    "id": "nGJIEEjkCbXY"
   },
   "source": [
    "# Writing to file"
   ]
  },
  {
   "cell_type": "code",
   "execution_count": null,
   "metadata": {
    "id": "BFlJiL3nCbXY"
   },
   "outputs": [],
   "source": [
    "infile_name = \"data/marks.csv\"\n",
    "infile = open(file_name,'r')\n",
    "line_c = 0\n",
    "outfile_name = \"tmp.txt\"\n",
    "outfile = open(outfile_name,'w')\n",
    "for line in infile:\n",
    "    if line_c <=4:\n",
    "        outfile.write(\"Line:\\n\"+line+\"\\n\")\n",
    "        v = line.split(',')\n",
    "        outfile.write(\"List: \"+str(v)+\"\\n\")\n",
    "        outfile.write(\"Elements in list:\\n\")\n",
    "        for i in range(len(v)):\n",
    "            outfile.write(v[i].strip()+\"\\n\")\n",
    "    line_c += 1\n",
    "infile.close()\n",
    "outfile.write(str(10.))\n",
    "outfile.close()"
   ]
  },
  {
   "cell_type": "markdown",
   "metadata": {
    "id": "cH4UwNNHCbXY"
   },
   "source": [
    "# Reading from CSV file [2/2]"
   ]
  },
  {
   "cell_type": "code",
   "execution_count": null,
   "metadata": {
    "id": "dKUoYjYDCbXZ"
   },
   "outputs": [],
   "source": [
    "import csv\n",
    "\n",
    "filename = \"data/marks.csv\"\n",
    "\n",
    "lines = csv.reader(open(filename, newline=''), delimiter=',')\n",
    "print('type(lines) = ', type(lines))\n",
    "\n",
    "for line in lines:\n",
    "    print(line)"
   ]
  },
  {
   "cell_type": "code",
   "execution_count": null,
   "metadata": {
    "id": "TGAsfaVTCbXZ"
   },
   "outputs": [],
   "source": [
    "filename = \"data/marks.csv\"\n",
    "lines = csv.reader(open(filename, newline=''), delimiter=',')\n",
    "\n",
    "dataset = list(lines)\n",
    "for i in range(len(dataset)):\n",
    "    dataset[i] = [float(x) for x in dataset[i]]\n",
    "print(dataset)\n",
    "print('Number of students:', len(dataset), end='\\n\\n')\n",
    "# you can convert lists to numpy for automatic print formatting:\n",
    "print(np.array(dataset))"
   ]
  },
  {
   "cell_type": "markdown",
   "metadata": {
    "id": "4ezKjbhIcJqP"
   },
   "source": [
    "# Plotting data"
   ]
  },
  {
   "cell_type": "code",
   "execution_count": null,
   "metadata": {
    "id": "BGG-gmZXcDlK"
   },
   "outputs": [],
   "source": [
    "# Let's use the dataset just loaded\n",
    "data = np.array(dataset)\n",
    "x = data[:,0]\n",
    "y1 = data[:,1]\n",
    "y2 = data[:,2]\n",
    "plt.figure()\n",
    "plt.plot(x, y1, label='First column', c='red')\n",
    "plt.plot(x, y2, label='Second column', c='green')\n",
    "plt.title(\"First plot\")\n",
    "plt.xlabel(\"X axis\")\n",
    "plt.ylabel(\"Y axis\")\n",
    "plt.legend()\n",
    "plt.grid()\n",
    "plt.show()\n",
    "\n",
    "plt.figure()\n",
    "plt.scatter(x, y1, label='First column', c='red')\n",
    "plt.scatter(x, y2, label='Second column', c='green')\n",
    "plt.title(\"Second plot\")\n",
    "plt.xlabel(\"X axis\")\n",
    "plt.ylabel(\"Y axis\")\n",
    "plt.legend()\n",
    "plt.grid()\n",
    "plt.show()"
   ]
  },
  {
   "cell_type": "markdown",
   "metadata": {
    "id": "d8iibqHjCbXa"
   },
   "source": [
    "# Functions"
   ]
  },
  {
   "cell_type": "code",
   "execution_count": null,
   "metadata": {
    "id": "FQBsXxEaCbXa"
   },
   "outputs": [],
   "source": [
    "def print_value(x):\n",
    "    print(str(x))\n",
    "\n",
    "print_value(10)\n",
    "print_value('hello')\n",
    "out = print_value(10) # this is a None instance, the print_value function has no return statement\n",
    "print(out)"
   ]
  },
  {
   "cell_type": "code",
   "execution_count": null,
   "metadata": {
    "id": "8bjoDLZ3CbXa"
   },
   "outputs": [],
   "source": [
    "def sign(value):\n",
    "    if value > 0:\n",
    "        return 1.\n",
    "    elif value < 0: # this means elseif, allows to construct checks with multiple cases without annidation\n",
    "        return -1.\n",
    "    else:\n",
    "        return 0.\n",
    "\n",
    "print(sign(10.2))\n",
    "print(sign(-0.6))\n",
    "print(sign(0))"
   ]
  },
  {
   "cell_type": "code",
   "execution_count": null,
   "metadata": {
    "id": "aeTCbUdcCbXb"
   },
   "outputs": [],
   "source": []
  }
 ],
 "metadata": {
  "colab": {
   "provenance": []
  },
  "kernelspec": {
   "display_name": "Python 3 (ipykernel)",
   "language": "python",
   "name": "python3"
  },
  "language_info": {
   "codemirror_mode": {
    "name": "ipython",
    "version": 3
   },
   "file_extension": ".py",
   "mimetype": "text/x-python",
   "name": "python",
   "nbconvert_exporter": "python",
   "pygments_lexer": "ipython3",
   "version": "3.12.7"
  }
 },
 "nbformat": 4,
 "nbformat_minor": 4
}
